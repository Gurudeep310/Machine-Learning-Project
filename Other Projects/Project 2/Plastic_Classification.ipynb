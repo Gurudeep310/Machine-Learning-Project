{
  "nbformat": 4,
  "nbformat_minor": 0,
  "metadata": {
    "colab": {
      "name": "Plastic_Classification.ipynb",
      "provenance": [],
      "collapsed_sections": []
    },
    "kernelspec": {
      "name": "python3",
      "display_name": "Python 3"
    },
    "language_info": {
      "name": "python"
    }
  },
  "cells": [
    {
      "cell_type": "markdown",
      "metadata": {
        "id": "auXtuHkGX4Zn"
      },
      "source": [
        "# Imports"
      ]
    },
    {
      "cell_type": "code",
      "metadata": {
        "id": "FMjlcOiWulsm"
      },
      "source": [
        "import pandas as pd"
      ],
      "execution_count": 1,
      "outputs": []
    },
    {
      "cell_type": "markdown",
      "metadata": {
        "id": "-xCXcJFSX6TQ"
      },
      "source": [
        "# Data Collection"
      ]
    },
    {
      "cell_type": "code",
      "metadata": {
        "id": "09HLkyVhuvyP",
        "outputId": "18d3ba83-583f-47f9-a3a3-76762cb552e2",
        "colab": {
          "base_uri": "https://localhost:8080/"
        }
      },
      "source": [
        "!wget https://nkb-backend-otg-media-static.s3.ap-south-1.amazonaws.com/otg_prod/media/Tech_4.0/AI_ML/CCBP_Platform_Projects/Plastic_Classification/train_X_pc.csv\n",
        "!wget https://nkb-backend-otg-media-static.s3.ap-south-1.amazonaws.com/otg_prod/media/Tech_4.0/AI_ML/CCBP_Platform_Projects/Plastic_Classification/train_Y_pc.csv\n",
        "!wget https://nkb-backend-otg-media-static.s3.ap-south-1.amazonaws.com/otg_prod/media/Tech_4.0/AI_ML/CCBP_Platform_Projects/Plastic_Classification/test_X_pc.csv"
      ],
      "execution_count": 2,
      "outputs": [
        {
          "output_type": "stream",
          "name": "stdout",
          "text": [
            "--2022-08-03 09:47:55--  https://nkb-backend-otg-media-static.s3.ap-south-1.amazonaws.com/otg_prod/media/Tech_4.0/AI_ML/CCBP_Platform_Projects/Plastic_Classification/train_X_pc.csv\n",
            "Resolving nkb-backend-otg-media-static.s3.ap-south-1.amazonaws.com (nkb-backend-otg-media-static.s3.ap-south-1.amazonaws.com)... 52.219.156.150\n",
            "Connecting to nkb-backend-otg-media-static.s3.ap-south-1.amazonaws.com (nkb-backend-otg-media-static.s3.ap-south-1.amazonaws.com)|52.219.156.150|:443... connected.\n",
            "HTTP request sent, awaiting response... 200 OK\n",
            "Length: 9950 (9.7K) [text/csv]\n",
            "Saving to: ‘train_X_pc.csv’\n",
            "\n",
            "train_X_pc.csv      100%[===================>]   9.72K  --.-KB/s    in 0s      \n",
            "\n",
            "2022-08-03 09:47:56 (129 MB/s) - ‘train_X_pc.csv’ saved [9950/9950]\n",
            "\n",
            "--2022-08-03 09:47:56--  https://nkb-backend-otg-media-static.s3.ap-south-1.amazonaws.com/otg_prod/media/Tech_4.0/AI_ML/CCBP_Platform_Projects/Plastic_Classification/train_Y_pc.csv\n",
            "Resolving nkb-backend-otg-media-static.s3.ap-south-1.amazonaws.com (nkb-backend-otg-media-static.s3.ap-south-1.amazonaws.com)... 52.219.156.150\n",
            "Connecting to nkb-backend-otg-media-static.s3.ap-south-1.amazonaws.com (nkb-backend-otg-media-static.s3.ap-south-1.amazonaws.com)|52.219.156.150|:443... connected.\n",
            "HTTP request sent, awaiting response... 200 OK\n",
            "Length: 480 [text/csv]\n",
            "Saving to: ‘train_Y_pc.csv’\n",
            "\n",
            "train_Y_pc.csv      100%[===================>]     480  --.-KB/s    in 0s      \n",
            "\n",
            "2022-08-03 09:47:57 (24.1 MB/s) - ‘train_Y_pc.csv’ saved [480/480]\n",
            "\n",
            "--2022-08-03 09:47:57--  https://nkb-backend-otg-media-static.s3.ap-south-1.amazonaws.com/otg_prod/media/Tech_4.0/AI_ML/CCBP_Platform_Projects/Plastic_Classification/test_X_pc.csv\n",
            "Resolving nkb-backend-otg-media-static.s3.ap-south-1.amazonaws.com (nkb-backend-otg-media-static.s3.ap-south-1.amazonaws.com)... 52.219.66.99\n",
            "Connecting to nkb-backend-otg-media-static.s3.ap-south-1.amazonaws.com (nkb-backend-otg-media-static.s3.ap-south-1.amazonaws.com)|52.219.66.99|:443... connected.\n",
            "HTTP request sent, awaiting response... 200 OK\n",
            "Length: 3358 (3.3K) [text/csv]\n",
            "Saving to: ‘test_X_pc.csv’\n",
            "\n",
            "test_X_pc.csv       100%[===================>]   3.28K  --.-KB/s    in 0.004s  \n",
            "\n",
            "2022-08-03 09:47:58 (891 KB/s) - ‘test_X_pc.csv’ saved [3358/3358]\n",
            "\n"
          ]
        }
      ]
    },
    {
      "cell_type": "code",
      "metadata": {
        "id": "HoJx-RR61Sk2"
      },
      "source": [
        "train_X_df = pd.read_csv('train_X_pc.csv')\n",
        "train_Y_df = pd.read_csv('train_Y_pc.csv', header=None).squeeze()\n",
        "test_X_df = pd.read_csv('test_X_pc.csv')"
      ],
      "execution_count": 3,
      "outputs": []
    },
    {
      "cell_type": "markdown",
      "metadata": {
        "id": "CXMWtQ3mZ45m"
      },
      "source": [
        "# Implementation"
      ]
    },
    {
      "cell_type": "code",
      "metadata": {
        "id": "b3zEjIS2Z8_A",
        "outputId": "94fdf737-a565-4217-a298-e7b3d655bd29",
        "colab": {
          "base_uri": "https://localhost:8080/",
          "height": 206
        }
      },
      "source": [
        "train_X_df.head()"
      ],
      "execution_count": 4,
      "outputs": [
        {
          "output_type": "execute_result",
          "data": {
            "text/plain": [
              "   Chlorine   Hardness  Hydrogen  Sulphur  Carbon  Oxygen  Nitrogen\n",
              "0    11.044  10.455700    14.047   10.165  31.585  12.700    10.405\n",
              "1    10.000  10.453963    13.900   11.863  31.210  12.079    10.906\n",
              "2    11.179  10.455400    14.113   10.162  31.543  12.508    10.462\n",
              "3    10.534  10.454839    14.392   10.000  31.930  12.601    10.537\n",
              "4    10.000  10.458217    13.306   10.000  31.924  14.488    10.225"
            ],
            "text/html": [
              "\n",
              "  <div id=\"df-4eb8d110-20e7-4eb1-8b42-2bf2ad9a7b25\">\n",
              "    <div class=\"colab-df-container\">\n",
              "      <div>\n",
              "<style scoped>\n",
              "    .dataframe tbody tr th:only-of-type {\n",
              "        vertical-align: middle;\n",
              "    }\n",
              "\n",
              "    .dataframe tbody tr th {\n",
              "        vertical-align: top;\n",
              "    }\n",
              "\n",
              "    .dataframe thead th {\n",
              "        text-align: right;\n",
              "    }\n",
              "</style>\n",
              "<table border=\"1\" class=\"dataframe\">\n",
              "  <thead>\n",
              "    <tr style=\"text-align: right;\">\n",
              "      <th></th>\n",
              "      <th>Chlorine</th>\n",
              "      <th>Hardness</th>\n",
              "      <th>Hydrogen</th>\n",
              "      <th>Sulphur</th>\n",
              "      <th>Carbon</th>\n",
              "      <th>Oxygen</th>\n",
              "      <th>Nitrogen</th>\n",
              "    </tr>\n",
              "  </thead>\n",
              "  <tbody>\n",
              "    <tr>\n",
              "      <th>0</th>\n",
              "      <td>11.044</td>\n",
              "      <td>10.455700</td>\n",
              "      <td>14.047</td>\n",
              "      <td>10.165</td>\n",
              "      <td>31.585</td>\n",
              "      <td>12.700</td>\n",
              "      <td>10.405</td>\n",
              "    </tr>\n",
              "    <tr>\n",
              "      <th>1</th>\n",
              "      <td>10.000</td>\n",
              "      <td>10.453963</td>\n",
              "      <td>13.900</td>\n",
              "      <td>11.863</td>\n",
              "      <td>31.210</td>\n",
              "      <td>12.079</td>\n",
              "      <td>10.906</td>\n",
              "    </tr>\n",
              "    <tr>\n",
              "      <th>2</th>\n",
              "      <td>11.179</td>\n",
              "      <td>10.455400</td>\n",
              "      <td>14.113</td>\n",
              "      <td>10.162</td>\n",
              "      <td>31.543</td>\n",
              "      <td>12.508</td>\n",
              "      <td>10.462</td>\n",
              "    </tr>\n",
              "    <tr>\n",
              "      <th>3</th>\n",
              "      <td>10.534</td>\n",
              "      <td>10.454839</td>\n",
              "      <td>14.392</td>\n",
              "      <td>10.000</td>\n",
              "      <td>31.930</td>\n",
              "      <td>12.601</td>\n",
              "      <td>10.537</td>\n",
              "    </tr>\n",
              "    <tr>\n",
              "      <th>4</th>\n",
              "      <td>10.000</td>\n",
              "      <td>10.458217</td>\n",
              "      <td>13.306</td>\n",
              "      <td>10.000</td>\n",
              "      <td>31.924</td>\n",
              "      <td>14.488</td>\n",
              "      <td>10.225</td>\n",
              "    </tr>\n",
              "  </tbody>\n",
              "</table>\n",
              "</div>\n",
              "      <button class=\"colab-df-convert\" onclick=\"convertToInteractive('df-4eb8d110-20e7-4eb1-8b42-2bf2ad9a7b25')\"\n",
              "              title=\"Convert this dataframe to an interactive table.\"\n",
              "              style=\"display:none;\">\n",
              "        \n",
              "  <svg xmlns=\"http://www.w3.org/2000/svg\" height=\"24px\"viewBox=\"0 0 24 24\"\n",
              "       width=\"24px\">\n",
              "    <path d=\"M0 0h24v24H0V0z\" fill=\"none\"/>\n",
              "    <path d=\"M18.56 5.44l.94 2.06.94-2.06 2.06-.94-2.06-.94-.94-2.06-.94 2.06-2.06.94zm-11 1L8.5 8.5l.94-2.06 2.06-.94-2.06-.94L8.5 2.5l-.94 2.06-2.06.94zm10 10l.94 2.06.94-2.06 2.06-.94-2.06-.94-.94-2.06-.94 2.06-2.06.94z\"/><path d=\"M17.41 7.96l-1.37-1.37c-.4-.4-.92-.59-1.43-.59-.52 0-1.04.2-1.43.59L10.3 9.45l-7.72 7.72c-.78.78-.78 2.05 0 2.83L4 21.41c.39.39.9.59 1.41.59.51 0 1.02-.2 1.41-.59l7.78-7.78 2.81-2.81c.8-.78.8-2.07 0-2.86zM5.41 20L4 18.59l7.72-7.72 1.47 1.35L5.41 20z\"/>\n",
              "  </svg>\n",
              "      </button>\n",
              "      \n",
              "  <style>\n",
              "    .colab-df-container {\n",
              "      display:flex;\n",
              "      flex-wrap:wrap;\n",
              "      gap: 12px;\n",
              "    }\n",
              "\n",
              "    .colab-df-convert {\n",
              "      background-color: #E8F0FE;\n",
              "      border: none;\n",
              "      border-radius: 50%;\n",
              "      cursor: pointer;\n",
              "      display: none;\n",
              "      fill: #1967D2;\n",
              "      height: 32px;\n",
              "      padding: 0 0 0 0;\n",
              "      width: 32px;\n",
              "    }\n",
              "\n",
              "    .colab-df-convert:hover {\n",
              "      background-color: #E2EBFA;\n",
              "      box-shadow: 0px 1px 2px rgba(60, 64, 67, 0.3), 0px 1px 3px 1px rgba(60, 64, 67, 0.15);\n",
              "      fill: #174EA6;\n",
              "    }\n",
              "\n",
              "    [theme=dark] .colab-df-convert {\n",
              "      background-color: #3B4455;\n",
              "      fill: #D2E3FC;\n",
              "    }\n",
              "\n",
              "    [theme=dark] .colab-df-convert:hover {\n",
              "      background-color: #434B5C;\n",
              "      box-shadow: 0px 1px 3px 1px rgba(0, 0, 0, 0.15);\n",
              "      filter: drop-shadow(0px 1px 2px rgba(0, 0, 0, 0.3));\n",
              "      fill: #FFFFFF;\n",
              "    }\n",
              "  </style>\n",
              "\n",
              "      <script>\n",
              "        const buttonEl =\n",
              "          document.querySelector('#df-4eb8d110-20e7-4eb1-8b42-2bf2ad9a7b25 button.colab-df-convert');\n",
              "        buttonEl.style.display =\n",
              "          google.colab.kernel.accessAllowed ? 'block' : 'none';\n",
              "\n",
              "        async function convertToInteractive(key) {\n",
              "          const element = document.querySelector('#df-4eb8d110-20e7-4eb1-8b42-2bf2ad9a7b25');\n",
              "          const dataTable =\n",
              "            await google.colab.kernel.invokeFunction('convertToInteractive',\n",
              "                                                     [key], {});\n",
              "          if (!dataTable) return;\n",
              "\n",
              "          const docLinkHtml = 'Like what you see? Visit the ' +\n",
              "            '<a target=\"_blank\" href=https://colab.research.google.com/notebooks/data_table.ipynb>data table notebook</a>'\n",
              "            + ' to learn more about interactive tables.';\n",
              "          element.innerHTML = '';\n",
              "          dataTable['output_type'] = 'display_data';\n",
              "          await google.colab.output.renderOutput(dataTable, element);\n",
              "          const docLink = document.createElement('div');\n",
              "          docLink.innerHTML = docLinkHtml;\n",
              "          element.appendChild(docLink);\n",
              "        }\n",
              "      </script>\n",
              "    </div>\n",
              "  </div>\n",
              "  "
            ]
          },
          "metadata": {},
          "execution_count": 4
        }
      ]
    },
    {
      "cell_type": "code",
      "source": [
        "train_X_df.isna().sum()"
      ],
      "metadata": {
        "id": "blnepMBY5Y8b",
        "outputId": "8ea683f3-91c1-4f3f-d070-aa8eed06a261",
        "colab": {
          "base_uri": "https://localhost:8080/"
        }
      },
      "execution_count": 5,
      "outputs": [
        {
          "output_type": "execute_result",
          "data": {
            "text/plain": [
              "Chlorine    0\n",
              "Hardness    0\n",
              "Hydrogen    0\n",
              "Sulphur     0\n",
              "Carbon      0\n",
              "Oxygen      0\n",
              "Nitrogen    0\n",
              "dtype: int64"
            ]
          },
          "metadata": {},
          "execution_count": 5
        }
      ]
    },
    {
      "cell_type": "code",
      "source": [
        "import seaborn as sns\n",
        "sns.boxplot(data = train_X_df)"
      ],
      "metadata": {
        "id": "raL83Men5eMI",
        "outputId": "8164805e-6303-4aca-dc50-fb5cf31a5f77",
        "colab": {
          "base_uri": "https://localhost:8080/",
          "height": 282
        }
      },
      "execution_count": 6,
      "outputs": [
        {
          "output_type": "execute_result",
          "data": {
            "text/plain": [
              "<matplotlib.axes._subplots.AxesSubplot at 0x7f22580ce2d0>"
            ]
          },
          "metadata": {},
          "execution_count": 6
        },
        {
          "output_type": "display_data",
          "data": {
            "text/plain": [
              "<Figure size 432x288 with 1 Axes>"
            ],
            "image/png": "[encoded data removed]"
          },
          "metadata": {
            "needs_background": "light"
          }
        }
      ]
    },
    {
      "cell_type": "code",
      "source": [
        "train_Y_df.head()"
      ],
      "metadata": {
        "id": "MQlKdSxg5UP1",
        "outputId": "9541c555-748c-4a37-9b1d-5acfd12a256c",
        "colab": {
          "base_uri": "https://localhost:8080/"
        }
      },
      "execution_count": 7,
      "outputs": [
        {
          "output_type": "execute_result",
          "data": {
            "text/plain": [
              "0    1\n",
              "1    4\n",
              "2    2\n",
              "3    6\n",
              "4    2\n",
              "Name: 0, dtype: int64"
            ]
          },
          "metadata": {},
          "execution_count": 7
        }
      ]
    },
    {
      "cell_type": "code",
      "source": [
        "from sklearn.pipeline import Pipeline \n",
        "from sklearn.preprocessing import MinMaxScaler, RobustScaler, StandardScaler \n",
        "from sklearn.model_selection import RandomizedSearchCV\n",
        "from sklearn.neighbors import KNeighborsClassifier\n",
        "from sklearn.linear_model import LogisticRegression\n",
        "pipe = Pipeline(steps = [('scaler', MinMaxScaler()),\n",
        "                         ('classifier', LogisticRegression(solver='liblinear', max_iter=2000))])"
      ],
      "metadata": {
        "id": "jwlKRmi-59KS"
      },
      "execution_count": 8,
      "outputs": []
    },
    {
      "cell_type": "code",
      "source": [
        "param_distributions = [\n",
        "              {\n",
        "                'scaler': [MinMaxScaler(), RobustScaler(),StandardScaler(), 'passthrough'],\n",
        "                'classifier': [LogisticRegression(solver='liblinear', max_iter=10000)],\n",
        "                'classifier__penalty': ['l2', 'l1','elasticnet']\n",
        "              },\n",
        "              {\n",
        "                'scaler': [StandardScaler(), MinMaxScaler(), RobustScaler(), 'passthrough'],\n",
        "                'classifier': [KNeighborsClassifier()],\n",
        "                'classifier__n_neighbors': range(1,40),\n",
        "                'classifier__p': [1, 2, 3, 4,5,6],\n",
        "                'classifier__weights':['uniform','distance'],\n",
        "              }\n",
        "            ]\n",
        "random_search_cv = RandomizedSearchCV(pipe, param_distributions=param_distributions, n_iter=30, scoring='f1_weighted', refit=True, cv=20, random_state=0) \n",
        "random_search_cv.fit(train_X_df, train_Y_df)\n",
        "print(random_search_cv.best_params_)"
      ],
      "metadata": {
        "id": "AgelfeW168wy",
        "outputId": "1eb7af37-c9cf-48b6-bd58-86b285def597",
        "colab": {
          "base_uri": "https://localhost:8080/"
        }
      },
      "execution_count": 29,
      "outputs": [
        {
          "output_type": "stream",
          "name": "stderr",
          "text": [
            "/usr/local/lib/python3.7/dist-packages/sklearn/model_selection/_split.py:680: UserWarning: The least populated class in y has only 7 members, which is less than n_splits=20.\n",
            "  UserWarning,\n"
          ]
        },
        {
          "output_type": "stream",
          "name": "stdout",
          "text": [
            "{'scaler': RobustScaler(), 'classifier__weights': 'distance', 'classifier__p': 1, 'classifier__n_neighbors': 1, 'classifier': KNeighborsClassifier(n_neighbors=1, p=1, weights='distance')}\n"
          ]
        }
      ]
    },
    {
      "cell_type": "code",
      "source": [
        "random_search_cv.cv_results_['mean_test_score'].max()"
      ],
      "metadata": {
        "id": "QIotUEO496Dj",
        "outputId": "67ea651c-e640-42b3-ada3-ff4d4c6e2ec5",
        "colab": {
          "base_uri": "https://localhost:8080/"
        }
      },
      "execution_count": 30,
      "outputs": [
        {
          "output_type": "execute_result",
          "data": {
            "text/plain": [
              "0.7551190476190476"
            ]
          },
          "metadata": {},
          "execution_count": 30
        }
      ]
    },
    {
      "cell_type": "code",
      "source": [
        "best_model = random_search_cv.best_estimator_\n",
        "predicted_test_Y = best_model.predict(test_X_df)\n",
        "predicted_test_Y"
      ],
      "metadata": {
        "id": "BFA92iyz9aZJ",
        "outputId": "80e8a423-2368-45d3-f73c-737605b9b5d8",
        "colab": {
          "base_uri": "https://localhost:8080/"
        }
      },
      "execution_count": 31,
      "outputs": [
        {
          "output_type": "execute_result",
          "data": {
            "text/plain": [
              "array([1, 1, 6, 2, 2, 2, 6, 1, 2, 1, 1, 3, 2, 2, 2, 3, 1, 4, 1, 4, 1, 1,\n",
              "       2, 2, 4, 4, 6, 6, 1, 4, 1, 2, 4, 1, 6, 2, 2, 2, 6, 2, 1, 2, 1, 1,\n",
              "       2, 1, 1, 1, 6, 1, 1, 2, 6, 2])"
            ]
          },
          "metadata": {},
          "execution_count": 31
        }
      ]
    },
    {
      "cell_type": "markdown",
      "metadata": {
        "id": "LS-bO56FMt8p"
      },
      "source": [
        "# Submission \n",
        "Writing the predicted values to CSV file"
      ]
    },
    {
      "cell_type": "code",
      "metadata": {
        "id": "ukTLnsCzMwJE"
      },
      "source": [
        "predicted_test_Y = pd.DataFrame(predicted_test_Y).to_csv('predicted_test_Y_pc.csv', header=None, index=False)"
      ],
      "execution_count": 32,
      "outputs": []
    },
    {
      "cell_type": "code",
      "source": [
        "from google.colab import files\n",
        "\n",
        "#predicted_test_Y.to_csv('predicted_test_Y_pc.csv')\n",
        "files.download('predicted_test_Y_pc.csv')"
      ],
      "metadata": {
        "id": "euVOOj9x9erO",
        "outputId": "9cd1719d-23f3-4450-b8c1-a401a3124235",
        "colab": {
          "base_uri": "https://localhost:8080/",
          "height": 17
        }
      },
      "execution_count": 33,
      "outputs": [
        {
          "output_type": "display_data",
          "data": {
            "text/plain": [
              "<IPython.core.display.Javascript object>"
            ],
            "application/javascript": [
              "\n",
              "    async function download(id, filename, size) {\n",
              "      if (!google.colab.kernel.accessAllowed) {\n",
              "        return;\n",
              "      }\n",
              "      const div = document.createElement('div');\n",
              "      const label = document.createElement('label');\n",
              "      label.textContent = `Downloading \"${filename}\": `;\n",
              "      div.appendChild(label);\n",
              "      const progress = document.createElement('progress');\n",
              "      progress.max = size;\n",
              "      div.appendChild(progress);\n",
              "      document.body.appendChild(div);\n",
              "\n",
              "      const buffers = [];\n",
              "      let downloaded = 0;\n",
              "\n",
              "      const channel = await google.colab.kernel.comms.open(id);\n",
              "      // Send a message to notify the kernel that we're ready.\n",
              "      channel.send({})\n",
              "\n",
              "      for await (const message of channel.messages) {\n",
              "        // Send a message to notify the kernel that we're ready.\n",
              "        channel.send({})\n",
              "        if (message.buffers) {\n",
              "          for (const buffer of message.buffers) {\n",
              "            buffers.push(buffer);\n",
              "            downloaded += buffer.byteLength;\n",
              "            progress.value = downloaded;\n",
              "          }\n",
              "        }\n",
              "      }\n",
              "      const blob = new Blob(buffers, {type: 'application/binary'});\n",
              "      const a = document.createElement('a');\n",
              "      a.href = window.URL.createObjectURL(blob);\n",
              "      a.download = filename;\n",
              "      div.appendChild(a);\n",
              "      a.click();\n",
              "      div.remove();\n",
              "    }\n",
              "  "
            ]
          },
          "metadata": {}
        },
        {
          "output_type": "display_data",
          "data": {
            "text/plain": [
              "<IPython.core.display.Javascript object>"
            ],
            "application/javascript": [
              "download(\"download_06227b5e-de7c-44c0-9a22-71b1c2893b78\", \"predicted_test_Y_pc.csv\", 108)"
            ]
          },
          "metadata": {}
        }
      ]
    },
    {
      "cell_type": "code",
      "source": [
        ""
      ],
      "metadata": {
        "id": "TAsWNOJe9j15"
      },
      "execution_count": null,
      "outputs": []
    }
  ]
}