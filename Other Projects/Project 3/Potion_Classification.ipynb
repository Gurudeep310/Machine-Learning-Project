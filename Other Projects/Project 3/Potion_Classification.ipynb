{
  "nbformat": 4,
  "nbformat_minor": 0,
  "metadata": {
    "colab": {
      "name": "Potion_Classification.ipynb",
      "provenance": [],
      "collapsed_sections": []
    },
    "kernelspec": {
      "name": "python3",
      "display_name": "Python 3"
    },
    "language_info": {
      "name": "python"
    }
  },
  "cells": [
    {
      "cell_type": "markdown",
      "metadata": {
        "id": "auXtuHkGX4Zn"
      },
      "source": [
        "# Imports"
      ]
    },
    {
      "cell_type": "code",
      "metadata": {
        "id": "FMjlcOiWulsm"
      },
      "source": [
        "import pandas as pd"
      ],
      "execution_count": 1,
      "outputs": []
    },
    {
      "cell_type": "markdown",
      "metadata": {
        "id": "-xCXcJFSX6TQ"
      },
      "source": [
        "# Data Collection"
      ]
    },
    {
      "cell_type": "code",
      "metadata": {
        "id": "09HLkyVhuvyP",
        "outputId": "a253de2a-db82-4658-c604-cb689d5b2039",
        "colab": {
          "base_uri": "https://localhost:8080/"
        }
      },
      "source": [
        "!wget https://nkb-backend-otg-media-static.s3.ap-south-1.amazonaws.com/otg_prod/media/Tech_4.0/AI_ML/CCBP_Platform_Projects/Potion_Classification/train_X_poc.csv\n",
        "!wget https://nkb-backend-otg-media-static.s3.ap-south-1.amazonaws.com/otg_prod/media/Tech_4.0/AI_ML/CCBP_Platform_Projects/Potion_Classification/train_Y_poc.csv\n",
        "!wget https://nkb-backend-otg-media-static.s3.ap-south-1.amazonaws.com/otg_prod/media/Tech_4.0/AI_ML/CCBP_Platform_Projects/Potion_Classification/test_X_poc.csv"
      ],
      "execution_count": 2,
      "outputs": [
        {
          "output_type": "stream",
          "name": "stdout",
          "text": [
            "--2022-08-03 09:56:24--  https://nkb-backend-otg-media-static.s3.ap-south-1.amazonaws.com/otg_prod/media/Tech_4.0/AI_ML/CCBP_Platform_Projects/Potion_Classification/train_X_poc.csv\n",
            "Resolving nkb-backend-otg-media-static.s3.ap-south-1.amazonaws.com (nkb-backend-otg-media-static.s3.ap-south-1.amazonaws.com)... 52.219.158.54\n",
            "Connecting to nkb-backend-otg-media-static.s3.ap-south-1.amazonaws.com (nkb-backend-otg-media-static.s3.ap-south-1.amazonaws.com)|52.219.158.54|:443... connected.\n",
            "HTTP request sent, awaiting response... 200 OK\n",
            "Length: 312331 (305K) [text/csv]\n",
            "Saving to: ‘train_X_poc.csv’\n",
            "\n",
            "train_X_poc.csv     100%[===================>] 305.01K   350KB/s    in 0.9s    \n",
            "\n",
            "2022-08-03 09:56:26 (350 KB/s) - ‘train_X_poc.csv’ saved [312331/312331]\n",
            "\n",
            "--2022-08-03 09:56:26--  https://nkb-backend-otg-media-static.s3.ap-south-1.amazonaws.com/otg_prod/media/Tech_4.0/AI_ML/CCBP_Platform_Projects/Potion_Classification/train_Y_poc.csv\n",
            "Resolving nkb-backend-otg-media-static.s3.ap-south-1.amazonaws.com (nkb-backend-otg-media-static.s3.ap-south-1.amazonaws.com)... 52.219.158.62\n",
            "Connecting to nkb-backend-otg-media-static.s3.ap-south-1.amazonaws.com (nkb-backend-otg-media-static.s3.ap-south-1.amazonaws.com)|52.219.158.62|:443... connected.\n",
            "HTTP request sent, awaiting response... 200 OK\n",
            "Length: 3373 (3.3K) [text/csv]\n",
            "Saving to: ‘train_Y_poc.csv’\n",
            "\n",
            "train_Y_poc.csv     100%[===================>]   3.29K  --.-KB/s    in 0s      \n",
            "\n",
            "2022-08-03 09:56:27 (33.9 MB/s) - ‘train_Y_poc.csv’ saved [3373/3373]\n",
            "\n",
            "--2022-08-03 09:56:27--  https://nkb-backend-otg-media-static.s3.ap-south-1.amazonaws.com/otg_prod/media/Tech_4.0/AI_ML/CCBP_Platform_Projects/Potion_Classification/test_X_poc.csv\n",
            "Resolving nkb-backend-otg-media-static.s3.ap-south-1.amazonaws.com (nkb-backend-otg-media-static.s3.ap-south-1.amazonaws.com)... 52.219.158.62\n",
            "Connecting to nkb-backend-otg-media-static.s3.ap-south-1.amazonaws.com (nkb-backend-otg-media-static.s3.ap-south-1.amazonaws.com)|52.219.158.62|:443... connected.\n",
            "HTTP request sent, awaiting response... 200 OK\n",
            "Length: 104382 (102K) [text/csv]\n",
            "Saving to: ‘test_X_poc.csv’\n",
            "\n",
            "test_X_poc.csv      100%[===================>] 101.94K   151KB/s    in 0.7s    \n",
            "\n",
            "2022-08-03 09:56:29 (151 KB/s) - ‘test_X_poc.csv’ saved [104382/104382]\n",
            "\n"
          ]
        }
      ]
    },
    {
      "cell_type": "code",
      "metadata": {
        "id": "HoJx-RR61Sk2"
      },
      "source": [
        "train_X_df = pd.read_csv('train_X_poc.csv')\n",
        "train_Y_df = pd.read_csv('train_Y_poc.csv', header=None).squeeze()\n",
        "test_X_df = pd.read_csv('test_X_poc.csv')"
      ],
      "execution_count": 3,
      "outputs": []
    },
    {
      "cell_type": "markdown",
      "metadata": {
        "id": "CXMWtQ3mZ45m"
      },
      "source": [
        "# Implementation"
      ]
    },
    {
      "cell_type": "code",
      "metadata": {
        "id": "b3zEjIS2Z8_A",
        "outputId": "f4d7a7dc-681a-4c2e-8a40-8a4caac4b4c9",
        "colab": {
          "base_uri": "https://localhost:8080/",
          "height": 270
        }
      },
      "source": [
        "train_X_df.head()"
      ],
      "execution_count": 4,
      "outputs": [
        {
          "output_type": "execute_result",
          "data": {
            "text/plain": [
              "   peppermint  dittany  lavender  ginger_root_width(mm)  \\\n",
              "0         1.0      0.0       1.0               0.172230   \n",
              "1         1.0      1.0       1.0               0.338451   \n",
              "2         1.0      1.0       1.0               0.638184   \n",
              "3         1.0      0.0       0.0               0.830441   \n",
              "4         1.0      1.0       0.0               0.080774   \n",
              "\n",
              "   powdered_dragon_claw(mg)  fluxweed(mg)  drops_of_tree_wood_oil  fire_seed  \\\n",
              "0                      0.10      0.857143                0.426243        0.0   \n",
              "1                      0.45      0.142857                0.200160        1.0   \n",
              "2                      0.60      1.000000                0.743453        0.0   \n",
              "3                      0.50      0.714286                0.194816        1.0   \n",
              "4                      0.80      0.714286                0.728220        1.0   \n",
              "\n",
              "   rose_petal  daisy_root_width  daisy_root_height  water(ml)  \\\n",
              "0         0.0          0.722222           0.714286   0.656417   \n",
              "1         0.0          0.111111           0.500000   0.233957   \n",
              "2         1.0          0.388889           0.714286   0.635027   \n",
              "3         0.0          0.611111           0.500000   0.649064   \n",
              "4         1.0          0.333333           0.714286   0.307487   \n",
              "\n",
              "   dragon_blood(ml)  porcupine_quills  drops_of_red_wine  gillyweed(mg)  \\\n",
              "0          0.111111          0.000000           0.055556           56.0   \n",
              "1          1.000000          0.666667           0.388889           56.0   \n",
              "2          0.555556          0.888889           0.277778           59.0   \n",
              "3          0.444444          0.277778           0.055556           38.0   \n",
              "4          0.222222          0.277778           0.555556           53.0   \n",
              "\n",
              "   honey(mg)  morning_dew  ginger_root_height(mm)  leech_juice(ml)  \n",
              "0        4.1          1.0                0.272447         0.800000  \n",
              "1        4.3          0.0                0.404310         0.175000  \n",
              "2        2.5          0.0                0.416624         0.841667  \n",
              "3        4.8          1.0                0.744997         0.416667  \n",
              "4        3.5          1.0                0.284248         0.600000  "
            ],
            "text/html": [
              "\n",
              "  <div id=\"df-9d0f255c-8017-440e-b5f5-bb8bf8a7889e\">\n",
              "    <div class=\"colab-df-container\">\n",
              "      <div>\n",
              "<style scoped>\n",
              "    .dataframe tbody tr th:only-of-type {\n",
              "        vertical-align: middle;\n",
              "    }\n",
              "\n",
              "    .dataframe tbody tr th {\n",
              "        vertical-align: top;\n",
              "    }\n",
              "\n",
              "    .dataframe thead th {\n",
              "        text-align: right;\n",
              "    }\n",
              "</style>\n",
              "<table border=\"1\" class=\"dataframe\">\n",
              "  <thead>\n",
              "    <tr style=\"text-align: right;\">\n",
              "      <th></th>\n",
              "      <th>peppermint</th>\n",
              "      <th>dittany</th>\n",
              "      <th>lavender</th>\n",
              "      <th>ginger_root_width(mm)</th>\n",
              "      <th>powdered_dragon_claw(mg)</th>\n",
              "      <th>fluxweed(mg)</th>\n",
              "      <th>drops_of_tree_wood_oil</th>\n",
              "      <th>fire_seed</th>\n",
              "      <th>rose_petal</th>\n",
              "      <th>daisy_root_width</th>\n",
              "      <th>daisy_root_height</th>\n",
              "      <th>water(ml)</th>\n",
              "      <th>dragon_blood(ml)</th>\n",
              "      <th>porcupine_quills</th>\n",
              "      <th>drops_of_red_wine</th>\n",
              "      <th>gillyweed(mg)</th>\n",
              "      <th>honey(mg)</th>\n",
              "      <th>morning_dew</th>\n",
              "      <th>ginger_root_height(mm)</th>\n",
              "      <th>leech_juice(ml)</th>\n",
              "    </tr>\n",
              "  </thead>\n",
              "  <tbody>\n",
              "    <tr>\n",
              "      <th>0</th>\n",
              "      <td>1.0</td>\n",
              "      <td>0.0</td>\n",
              "      <td>1.0</td>\n",
              "      <td>0.172230</td>\n",
              "      <td>0.10</td>\n",
              "      <td>0.857143</td>\n",
              "      <td>0.426243</td>\n",
              "      <td>0.0</td>\n",
              "      <td>0.0</td>\n",
              "      <td>0.722222</td>\n",
              "      <td>0.714286</td>\n",
              "      <td>0.656417</td>\n",
              "      <td>0.111111</td>\n",
              "      <td>0.000000</td>\n",
              "      <td>0.055556</td>\n",
              "      <td>56.0</td>\n",
              "      <td>4.1</td>\n",
              "      <td>1.0</td>\n",
              "      <td>0.272447</td>\n",
              "      <td>0.800000</td>\n",
              "    </tr>\n",
              "    <tr>\n",
              "      <th>1</th>\n",
              "      <td>1.0</td>\n",
              "      <td>1.0</td>\n",
              "      <td>1.0</td>\n",
              "      <td>0.338451</td>\n",
              "      <td>0.45</td>\n",
              "      <td>0.142857</td>\n",
              "      <td>0.200160</td>\n",
              "      <td>1.0</td>\n",
              "      <td>0.0</td>\n",
              "      <td>0.111111</td>\n",
              "      <td>0.500000</td>\n",
              "      <td>0.233957</td>\n",
              "      <td>1.000000</td>\n",
              "      <td>0.666667</td>\n",
              "      <td>0.388889</td>\n",
              "      <td>56.0</td>\n",
              "      <td>4.3</td>\n",
              "      <td>0.0</td>\n",
              "      <td>0.404310</td>\n",
              "      <td>0.175000</td>\n",
              "    </tr>\n",
              "    <tr>\n",
              "      <th>2</th>\n",
              "      <td>1.0</td>\n",
              "      <td>1.0</td>\n",
              "      <td>1.0</td>\n",
              "      <td>0.638184</td>\n",
              "      <td>0.60</td>\n",
              "      <td>1.000000</td>\n",
              "      <td>0.743453</td>\n",
              "      <td>0.0</td>\n",
              "      <td>1.0</td>\n",
              "      <td>0.388889</td>\n",
              "      <td>0.714286</td>\n",
              "      <td>0.635027</td>\n",
              "      <td>0.555556</td>\n",
              "      <td>0.888889</td>\n",
              "      <td>0.277778</td>\n",
              "      <td>59.0</td>\n",
              "      <td>2.5</td>\n",
              "      <td>0.0</td>\n",
              "      <td>0.416624</td>\n",
              "      <td>0.841667</td>\n",
              "    </tr>\n",
              "    <tr>\n",
              "      <th>3</th>\n",
              "      <td>1.0</td>\n",
              "      <td>0.0</td>\n",
              "      <td>0.0</td>\n",
              "      <td>0.830441</td>\n",
              "      <td>0.50</td>\n",
              "      <td>0.714286</td>\n",
              "      <td>0.194816</td>\n",
              "      <td>1.0</td>\n",
              "      <td>0.0</td>\n",
              "      <td>0.611111</td>\n",
              "      <td>0.500000</td>\n",
              "      <td>0.649064</td>\n",
              "      <td>0.444444</td>\n",
              "      <td>0.277778</td>\n",
              "      <td>0.055556</td>\n",
              "      <td>38.0</td>\n",
              "      <td>4.8</td>\n",
              "      <td>1.0</td>\n",
              "      <td>0.744997</td>\n",
              "      <td>0.416667</td>\n",
              "    </tr>\n",
              "    <tr>\n",
              "      <th>4</th>\n",
              "      <td>1.0</td>\n",
              "      <td>1.0</td>\n",
              "      <td>0.0</td>\n",
              "      <td>0.080774</td>\n",
              "      <td>0.80</td>\n",
              "      <td>0.714286</td>\n",
              "      <td>0.728220</td>\n",
              "      <td>1.0</td>\n",
              "      <td>1.0</td>\n",
              "      <td>0.333333</td>\n",
              "      <td>0.714286</td>\n",
              "      <td>0.307487</td>\n",
              "      <td>0.222222</td>\n",
              "      <td>0.277778</td>\n",
              "      <td>0.555556</td>\n",
              "      <td>53.0</td>\n",
              "      <td>3.5</td>\n",
              "      <td>1.0</td>\n",
              "      <td>0.284248</td>\n",
              "      <td>0.600000</td>\n",
              "    </tr>\n",
              "  </tbody>\n",
              "</table>\n",
              "</div>\n",
              "      <button class=\"colab-df-convert\" onclick=\"convertToInteractive('df-9d0f255c-8017-440e-b5f5-bb8bf8a7889e')\"\n",
              "              title=\"Convert this dataframe to an interactive table.\"\n",
              "              style=\"display:none;\">\n",
              "        \n",
              "  <svg xmlns=\"http://www.w3.org/2000/svg\" height=\"24px\"viewBox=\"0 0 24 24\"\n",
              "       width=\"24px\">\n",
              "    <path d=\"M0 0h24v24H0V0z\" fill=\"none\"/>\n",
              "    <path d=\"M18.56 5.44l.94 2.06.94-2.06 2.06-.94-2.06-.94-.94-2.06-.94 2.06-2.06.94zm-11 1L8.5 8.5l.94-2.06 2.06-.94-2.06-.94L8.5 2.5l-.94 2.06-2.06.94zm10 10l.94 2.06.94-2.06 2.06-.94-2.06-.94-.94-2.06-.94 2.06-2.06.94z\"/><path d=\"M17.41 7.96l-1.37-1.37c-.4-.4-.92-.59-1.43-.59-.52 0-1.04.2-1.43.59L10.3 9.45l-7.72 7.72c-.78.78-.78 2.05 0 2.83L4 21.41c.39.39.9.59 1.41.59.51 0 1.02-.2 1.41-.59l7.78-7.78 2.81-2.81c.8-.78.8-2.07 0-2.86zM5.41 20L4 18.59l7.72-7.72 1.47 1.35L5.41 20z\"/>\n",
              "  </svg>\n",
              "      </button>\n",
              "      \n",
              "  <style>\n",
              "    .colab-df-container {\n",
              "      display:flex;\n",
              "      flex-wrap:wrap;\n",
              "      gap: 12px;\n",
              "    }\n",
              "\n",
              "    .colab-df-convert {\n",
              "      background-color: #E8F0FE;\n",
              "      border: none;\n",
              "      border-radius: 50%;\n",
              "      cursor: pointer;\n",
              "      display: none;\n",
              "      fill: #1967D2;\n",
              "      height: 32px;\n",
              "      padding: 0 0 0 0;\n",
              "      width: 32px;\n",
              "    }\n",
              "\n",
              "    .colab-df-convert:hover {\n",
              "      background-color: #E2EBFA;\n",
              "      box-shadow: 0px 1px 2px rgba(60, 64, 67, 0.3), 0px 1px 3px 1px rgba(60, 64, 67, 0.15);\n",
              "      fill: #174EA6;\n",
              "    }\n",
              "\n",
              "    [theme=dark] .colab-df-convert {\n",
              "      background-color: #3B4455;\n",
              "      fill: #D2E3FC;\n",
              "    }\n",
              "\n",
              "    [theme=dark] .colab-df-convert:hover {\n",
              "      background-color: #434B5C;\n",
              "      box-shadow: 0px 1px 3px 1px rgba(0, 0, 0, 0.15);\n",
              "      filter: drop-shadow(0px 1px 2px rgba(0, 0, 0, 0.3));\n",
              "      fill: #FFFFFF;\n",
              "    }\n",
              "  </style>\n",
              "\n",
              "      <script>\n",
              "        const buttonEl =\n",
              "          document.querySelector('#df-9d0f255c-8017-440e-b5f5-bb8bf8a7889e button.colab-df-convert');\n",
              "        buttonEl.style.display =\n",
              "          google.colab.kernel.accessAllowed ? 'block' : 'none';\n",
              "\n",
              "        async function convertToInteractive(key) {\n",
              "          const element = document.querySelector('#df-9d0f255c-8017-440e-b5f5-bb8bf8a7889e');\n",
              "          const dataTable =\n",
              "            await google.colab.kernel.invokeFunction('convertToInteractive',\n",
              "                                                     [key], {});\n",
              "          if (!dataTable) return;\n",
              "\n",
              "          const docLinkHtml = 'Like what you see? Visit the ' +\n",
              "            '<a target=\"_blank\" href=https://colab.research.google.com/notebooks/data_table.ipynb>data table notebook</a>'\n",
              "            + ' to learn more about interactive tables.';\n",
              "          element.innerHTML = '';\n",
              "          dataTable['output_type'] = 'display_data';\n",
              "          await google.colab.output.renderOutput(dataTable, element);\n",
              "          const docLink = document.createElement('div');\n",
              "          docLink.innerHTML = docLinkHtml;\n",
              "          element.appendChild(docLink);\n",
              "        }\n",
              "      </script>\n",
              "    </div>\n",
              "  </div>\n",
              "  "
            ]
          },
          "metadata": {},
          "execution_count": 4
        }
      ]
    },
    {
      "cell_type": "code",
      "source": [
        "train_X_df.isna().sum()"
      ],
      "metadata": {
        "id": "KPuf_PeLCTXB",
        "outputId": "788af4db-cda4-41a0-912d-86a5b6a56a47",
        "colab": {
          "base_uri": "https://localhost:8080/"
        }
      },
      "execution_count": 5,
      "outputs": [
        {
          "output_type": "execute_result",
          "data": {
            "text/plain": [
              "peppermint                  0\n",
              "dittany                     0\n",
              "lavender                    0\n",
              "ginger_root_width(mm)       0\n",
              "powdered_dragon_claw(mg)    0\n",
              "fluxweed(mg)                0\n",
              "drops_of_tree_wood_oil      0\n",
              "fire_seed                   0\n",
              "rose_petal                  0\n",
              "daisy_root_width            0\n",
              "daisy_root_height           0\n",
              "water(ml)                   0\n",
              "dragon_blood(ml)            0\n",
              "porcupine_quills            0\n",
              "drops_of_red_wine           0\n",
              "gillyweed(mg)               0\n",
              "honey(mg)                   0\n",
              "morning_dew                 0\n",
              "ginger_root_height(mm)      0\n",
              "leech_juice(ml)             0\n",
              "dtype: int64"
            ]
          },
          "metadata": {},
          "execution_count": 5
        }
      ]
    },
    {
      "cell_type": "code",
      "source": [
        "train_Y_df"
      ],
      "metadata": {
        "id": "NgZ2LSgdCQp5",
        "outputId": "3919160c-6660-435f-fd5c-624d0a502f7f",
        "colab": {
          "base_uri": "https://localhost:8080/"
        }
      },
      "execution_count": 6,
      "outputs": [
        {
          "output_type": "execute_result",
          "data": {
            "text/plain": [
              "0       1\n",
              "1       0\n",
              "2       3\n",
              "3       1\n",
              "4       2\n",
              "       ..\n",
              "1120    3\n",
              "1121    3\n",
              "1122    0\n",
              "1123    2\n",
              "1124    1\n",
              "Name: 0, Length: 1125, dtype: int64"
            ]
          },
          "metadata": {},
          "execution_count": 6
        }
      ]
    },
    {
      "cell_type": "code",
      "source": [
        "from sklearn.pipeline import Pipeline \n",
        "from sklearn.preprocessing import MinMaxScaler, RobustScaler, StandardScaler \n",
        "from sklearn.model_selection import RandomizedSearchCV\n",
        "from sklearn.neighbors import KNeighborsClassifier\n",
        "from sklearn.linear_model import LogisticRegression\n",
        "pipe = Pipeline(steps = [('scaler', MinMaxScaler()),\n",
        "                         ('classifier', LogisticRegression(solver='liblinear', max_iter=2000))])\n",
        "param_distributions = [\n",
        "              {\n",
        "                'scaler': [MinMaxScaler(), RobustScaler(),StandardScaler(), 'passthrough'],\n",
        "                'classifier': [LogisticRegression(solver='liblinear', max_iter=5000)],\n",
        "                'classifier__penalty': ['l2', 'l1','elasticnet'],\n",
        "                'classifier__C':[1,2,3,4,0.01,0.001,0.0001]\n",
        "              },\n",
        "              {\n",
        "                'scaler': [StandardScaler(), MinMaxScaler(), RobustScaler(), 'passthrough'],\n",
        "                'classifier': [KNeighborsClassifier()],\n",
        "                'classifier__n_neighbors': range(1,30),\n",
        "                'classifier__p': [1, 2, 3, 4,5,6]\n",
        "              }\n",
        "            ]\n",
        "random_search_cv = RandomizedSearchCV(pipe, param_distributions=param_distributions, n_iter=30, scoring='f1_weighted', refit=True, cv=20, random_state=0) \n",
        "random_search_cv.fit(train_X_df, train_Y_df)\n",
        "print(random_search_cv.best_params_)"
      ],
      "metadata": {
        "id": "UPxmHMTtCm2w",
        "outputId": "8e7bb641-9f4e-45e3-ed44-125ebb82d9fa",
        "colab": {
          "base_uri": "https://localhost:8080/"
        }
      },
      "execution_count": 8,
      "outputs": [
        {
          "output_type": "stream",
          "name": "stdout",
          "text": [
            "{'scaler': 'passthrough', 'classifier__penalty': 'l1', 'classifier__C': 3, 'classifier': LogisticRegression(C=3, max_iter=5000, penalty='l1', solver='liblinear')}\n"
          ]
        }
      ]
    },
    {
      "cell_type": "code",
      "source": [
        "random_search_cv.cv_results_['mean_test_score'].max()"
      ],
      "metadata": {
        "id": "264DNmeZCvT5",
        "outputId": "a6dda694-66fd-44fe-c2cb-8b43af1efbe6",
        "colab": {
          "base_uri": "https://localhost:8080/"
        }
      },
      "execution_count": 9,
      "outputs": [
        {
          "output_type": "execute_result",
          "data": {
            "text/plain": [
              "0.8487677641277293"
            ]
          },
          "metadata": {},
          "execution_count": 9
        }
      ]
    },
    {
      "cell_type": "code",
      "source": [
        "best_model = random_search_cv.best_estimator_\n",
        "predicted_test_Y = best_model.predict(test_X_df)\n",
        "predicted_test_Y"
      ],
      "metadata": {
        "id": "gXsVCcqGC5rh",
        "outputId": "fca02512-80a9-44a7-f686-3c15c0884878",
        "colab": {
          "base_uri": "https://localhost:8080/"
        }
      },
      "execution_count": 10,
      "outputs": [
        {
          "output_type": "execute_result",
          "data": {
            "text/plain": [
              "array([0, 0, 2, 0, 2, 0, 1, 0, 3, 0, 2, 2, 0, 0, 1, 3, 1, 0, 3, 1, 3, 3,\n",
              "       3, 2, 1, 0, 3, 1, 0, 3, 1, 0, 3, 1, 2, 2, 0, 2, 1, 0, 0, 0, 1, 1,\n",
              "       3, 0, 0, 2, 3, 2, 0, 1, 3, 1, 1, 3, 3, 3, 1, 1, 1, 0, 2, 2, 2, 2,\n",
              "       3, 0, 3, 1, 0, 1, 3, 1, 3, 1, 2, 0, 2, 0, 0, 2, 1, 2, 3, 0, 0, 3,\n",
              "       3, 0, 0, 3, 0, 0, 3, 2, 1, 3, 3, 2, 1, 0, 0, 2, 0, 0, 3, 3, 1, 0,\n",
              "       3, 1, 0, 0, 1, 1, 1, 3, 3, 2, 1, 2, 1, 0, 0, 2, 3, 3, 2, 1, 1, 3,\n",
              "       1, 2, 0, 1, 1, 1, 2, 3, 0, 0, 3, 1, 3, 2, 2, 3, 0, 0, 3, 0, 1, 1,\n",
              "       0, 3, 1, 3, 3, 1, 1, 3, 0, 1, 3, 1, 0, 2, 0, 2, 2, 3, 1, 2, 0, 0,\n",
              "       0, 1, 0, 3, 0, 2, 2, 0, 2, 0, 0, 2, 3, 0, 1, 1, 0, 3, 2, 2, 1, 3,\n",
              "       1, 0, 3, 1, 2, 3, 1, 2, 2, 2, 3, 0, 3, 3, 3, 0, 3, 2, 3, 2, 3, 0,\n",
              "       0, 1, 0, 1, 0, 0, 3, 0, 2, 2, 1, 2, 3, 1, 2, 2, 1, 0, 2, 2, 1, 0,\n",
              "       0, 1, 1, 3, 0, 2, 2, 2, 0, 0, 1, 2, 2, 1, 3, 2, 0, 3, 1, 3, 1, 3,\n",
              "       3, 3, 2, 2, 2, 1, 3, 0, 0, 3, 3, 2, 2, 1, 1, 2, 2, 1, 0, 0, 1, 3,\n",
              "       1, 3, 2, 0, 2, 0, 2, 0, 0, 0, 0, 2, 1, 0, 0, 2, 2, 3, 3, 1, 2, 0,\n",
              "       0, 3, 3, 1, 0, 1, 3, 1, 3, 3, 2, 3, 2, 1, 0, 1, 0, 3, 1, 3, 2, 1,\n",
              "       2, 2, 2, 0, 2, 1, 3, 1, 2, 1, 0, 3, 1, 1, 0, 1, 0, 3, 2, 3, 1, 1,\n",
              "       2, 2, 3, 0, 2, 2, 1, 0, 3, 2, 0, 3, 2, 0, 1, 0, 1, 0, 0, 1, 0, 3,\n",
              "       1])"
            ]
          },
          "metadata": {},
          "execution_count": 10
        }
      ]
    },
    {
      "cell_type": "markdown",
      "metadata": {
        "id": "LS-bO56FMt8p"
      },
      "source": [
        "# Submission \n",
        "Writing the predicted values to CSV file"
      ]
    },
    {
      "cell_type": "code",
      "metadata": {
        "id": "ukTLnsCzMwJE",
        "outputId": "b6c2142e-6ccc-4cb6-c9a7-d91380d3612e",
        "colab": {
          "base_uri": "https://localhost:8080/",
          "height": 17
        }
      },
      "source": [
        "predicted_test_Y = pd.DataFrame(predicted_test_Y).to_csv('predicted_test_Y_poc.csv', header=None, index=False)\n",
        "from google.colab import files\n",
        "files.download('predicted_test_Y_poc.csv')"
      ],
      "execution_count": 11,
      "outputs": [
        {
          "output_type": "display_data",
          "data": {
            "text/plain": [
              "<IPython.core.display.Javascript object>"
            ],
            "application/javascript": [
              "\n",
              "    async function download(id, filename, size) {\n",
              "      if (!google.colab.kernel.accessAllowed) {\n",
              "        return;\n",
              "      }\n",
              "      const div = document.createElement('div');\n",
              "      const label = document.createElement('label');\n",
              "      label.textContent = `Downloading \"${filename}\": `;\n",
              "      div.appendChild(label);\n",
              "      const progress = document.createElement('progress');\n",
              "      progress.max = size;\n",
              "      div.appendChild(progress);\n",
              "      document.body.appendChild(div);\n",
              "\n",
              "      const buffers = [];\n",
              "      let downloaded = 0;\n",
              "\n",
              "      const channel = await google.colab.kernel.comms.open(id);\n",
              "      // Send a message to notify the kernel that we're ready.\n",
              "      channel.send({})\n",
              "\n",
              "      for await (const message of channel.messages) {\n",
              "        // Send a message to notify the kernel that we're ready.\n",
              "        channel.send({})\n",
              "        if (message.buffers) {\n",
              "          for (const buffer of message.buffers) {\n",
              "            buffers.push(buffer);\n",
              "            downloaded += buffer.byteLength;\n",
              "            progress.value = downloaded;\n",
              "          }\n",
              "        }\n",
              "      }\n",
              "      const blob = new Blob(buffers, {type: 'application/binary'});\n",
              "      const a = document.createElement('a');\n",
              "      a.href = window.URL.createObjectURL(blob);\n",
              "      a.download = filename;\n",
              "      div.appendChild(a);\n",
              "      a.click();\n",
              "      div.remove();\n",
              "    }\n",
              "  "
            ]
          },
          "metadata": {}
        },
        {
          "output_type": "display_data",
          "data": {
            "text/plain": [
              "<IPython.core.display.Javascript object>"
            ],
            "application/javascript": [
              "download(\"download_20227a86-4cf9-4b4b-a1c9-7f364081b815\", \"predicted_test_Y_poc.csv\", 750)"
            ]
          },
          "metadata": {}
        }
      ]
    },
    {
      "cell_type": "code",
      "source": [
        ""
      ],
      "metadata": {
        "id": "LI_5YIFfEkYc"
      },
      "execution_count": 11,
      "outputs": []
    }
  ]
}